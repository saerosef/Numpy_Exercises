{
  "nbformat": 4,
  "nbformat_minor": 0,
  "metadata": {
    "colab": {
      "provenance": []
    },
    "kernelspec": {
      "name": "python3",
      "display_name": "Python 3"
    },
    "language_info": {
      "name": "python"
    }
  },
  "cells": [
    {
      "cell_type": "markdown",
      "source": [
        "##Mini-Boothcamp Numpy Ödevi - Efe Uslu"
      ],
      "metadata": {
        "id": "GDcI2R8ik6pL"
      }
    },
    {
      "cell_type": "code",
      "execution_count": 4,
      "metadata": {
        "id": "lG7ViS6UDyJz"
      },
      "outputs": [],
      "source": [
        "import numpy as np"
      ]
    },
    {
      "cell_type": "code",
      "source": [
        "#1. 1'den 10'a kadar bir Numpy dizisi oluşturun\n",
        "a=np.array(range(1,11))\n",
        "a"
      ],
      "metadata": {
        "colab": {
          "base_uri": "https://localhost:8080/"
        },
        "id": "51B68Qu8ZXUp",
        "outputId": "9bfbab4b-3a65-42a0-ae0e-facc2ee1c195"
      },
      "execution_count": null,
      "outputs": [
        {
          "output_type": "execute_result",
          "data": {
            "text/plain": [
              "array([ 1,  2,  3,  4,  5,  6,  7,  8,  9, 10])"
            ]
          },
          "metadata": {},
          "execution_count": 6
        }
      ]
    },
    {
      "cell_type": "code",
      "source": [
        "#2. 2 boyutlu bir Numpy dizisi oluşturun\n",
        "b=np.random.randint(1,20,size=(9))\n",
        "b=b.reshape(3,3)\n",
        "b"
      ],
      "metadata": {
        "colab": {
          "base_uri": "https://localhost:8080/"
        },
        "id": "aaRxmlL9aGdA",
        "outputId": "b7a02733-dfb2-466e-bb5f-f42ebd73fe9e"
      },
      "execution_count": 13,
      "outputs": [
        {
          "output_type": "execute_result",
          "data": {
            "text/plain": [
              "array([[ 4, 18,  2],\n",
              "       [10,  6, 12],\n",
              "       [ 2, 13,  4]])"
            ]
          },
          "metadata": {},
          "execution_count": 13
        }
      ]
    },
    {
      "cell_type": "code",
      "source": [
        "#3. Boyutları 2x3 olan bir Numpy dizisinin satır sayısını bulun\n",
        "c=np.random.randint(1,10,size=(6))\n",
        "c=c.reshape(2,3)\n",
        "rows = c.shape[0]\n",
        "print(\"Dizimiz: \")\n",
        "print(c)\n",
        "print(\"Satır Sayısı: \", rows)"
      ],
      "metadata": {
        "colab": {
          "base_uri": "https://localhost:8080/"
        },
        "id": "qy9hCPTWdT2H",
        "outputId": "ff83a6ae-6b23-4c2a-e187-229acd615d8b"
      },
      "execution_count": null,
      "outputs": [
        {
          "output_type": "stream",
          "name": "stdout",
          "text": [
            "Dizimiz: \n",
            "[[2 4 9]\n",
            " [3 4 3]]\n",
            "Satır Sayısı:  2\n"
          ]
        }
      ]
    },
    {
      "cell_type": "code",
      "source": [
        "#4. Boyutları 2x3 olan bir Numpy dizisinin sütun sayısını bulun\n",
        "lines = c.shape[1]\n",
        "print(\"Sütun sayısı: \", lines)"
      ],
      "metadata": {
        "colab": {
          "base_uri": "https://localhost:8080/"
        },
        "id": "cM0z7u_7cbVJ",
        "outputId": "efe60374-60fe-44f7-c723-a9d54ed1f3b3"
      },
      "execution_count": null,
      "outputs": [
        {
          "output_type": "stream",
          "name": "stdout",
          "text": [
            "Sütun sayısı:  3\n"
          ]
        }
      ]
    },
    {
      "cell_type": "code",
      "source": [
        "#4. Bir Numpy dizisindeki en büyük değeri bulun\n",
        "\n",
        "print(c.max())\n"
      ],
      "metadata": {
        "colab": {
          "base_uri": "https://localhost:8080/"
        },
        "id": "4ttdIL_8dR44",
        "outputId": "2f3e768f-eb9f-467e-e6bf-5a80775da235"
      },
      "execution_count": null,
      "outputs": [
        {
          "output_type": "stream",
          "name": "stdout",
          "text": [
            "9\n"
          ]
        }
      ]
    },
    {
      "cell_type": "code",
      "source": [
        "#6. Bir Numpy dizisindeki en küçük değeri bulun\n",
        "\n",
        "d=np.random.normal(1,100,20)\n",
        "print(\"Dizimiz: \",d)\n",
        "print()\n",
        "print(\"Dizinin minimum değeri: \", d.min())"
      ],
      "metadata": {
        "colab": {
          "base_uri": "https://localhost:8080/"
        },
        "id": "cy4xNUeie9gc",
        "outputId": "44ae724d-63c6-4564-c6b6-28c180a4d0b1"
      },
      "execution_count": 48,
      "outputs": [
        {
          "output_type": "stream",
          "name": "stdout",
          "text": [
            "Dizimiz:  [  96.16774526  -15.21650631   22.70135604  113.55202944  -69.62850452\n",
            "  -16.97413795  -93.43450606  -36.68228207  133.05145163 -228.24243699\n",
            "  -51.86849265  128.85573756  125.13374129  186.82404409  -29.76394989\n",
            "  132.69391175   49.17961312    1.74189147  -73.19387651   89.2589421 ]\n",
            "\n",
            "Dizinin minimum değeri:  -228.24243699144046\n"
          ]
        }
      ]
    },
    {
      "cell_type": "code",
      "source": [
        "#7. Bir Numpy dizisindeki ortalamayı bulun\n",
        "print(\"Dizimiz: \",d)\n",
        "print()\n",
        "print(\"Dizinin ortalama değeri: \", d.mean())\n",
        "\n"
      ],
      "metadata": {
        "colab": {
          "base_uri": "https://localhost:8080/"
        },
        "id": "KBg0r2REgbjd",
        "outputId": "929927e6-25a6-4453-bb9d-342cab0c1b10"
      },
      "execution_count": 49,
      "outputs": [
        {
          "output_type": "stream",
          "name": "stdout",
          "text": [
            "Dizimiz:  [  96.16774526  -15.21650631   22.70135604  113.55202944  -69.62850452\n",
            "  -16.97413795  -93.43450606  -36.68228207  133.05145163 -228.24243699\n",
            "  -51.86849265  128.85573756  125.13374129  186.82404409  -29.76394989\n",
            "  132.69391175   49.17961312    1.74189147  -73.19387651   89.2589421 ]\n",
            "\n",
            "Dizinin ortalama değeri:  23.207788540194304\n"
          ]
        }
      ]
    },
    {
      "cell_type": "code",
      "source": [
        "#8. Bir Numpy dizisindeki standart sapmayı bulun\n",
        "print(\"Dizimiz: \",d)\n",
        "print()\n",
        "print(\"Dizinin Standart Sapma Değeri: \", d.std())"
      ],
      "metadata": {
        "colab": {
          "base_uri": "https://localhost:8080/"
        },
        "id": "DuaON9vzkcUO",
        "outputId": "0e826d8f-27ee-4049-f7a8-a7d005a06cee"
      },
      "execution_count": 50,
      "outputs": [
        {
          "output_type": "stream",
          "name": "stdout",
          "text": [
            "Dizimiz:  [  96.16774526  -15.21650631   22.70135604  113.55202944  -69.62850452\n",
            "  -16.97413795  -93.43450606  -36.68228207  133.05145163 -228.24243699\n",
            "  -51.86849265  128.85573756  125.13374129  186.82404409  -29.76394989\n",
            "  132.69391175   49.17961312    1.74189147  -73.19387651   89.2589421 ]\n",
            "\n",
            "Dizinin Standart Sapma Değeri:  100.30500109475899\n"
          ]
        }
      ]
    },
    {
      "cell_type": "code",
      "source": [
        "#9. Bir Numpy dizisinde tekrar eden elemanları bulun"
      ],
      "metadata": {
        "id": "9ZgjvJMhkxbl"
      },
      "execution_count": null,
      "outputs": []
    },
    {
      "cell_type": "code",
      "source": [
        "e= np.random.randint(1,10,20)\n",
        "uni = np.unique(e)\n",
        "\n",
        "print(f\"{e} dizisinin tekrar eden elemanları {uni}'dir\")\n"
      ],
      "metadata": {
        "colab": {
          "base_uri": "https://localhost:8080/"
        },
        "id": "4PvYz90SlF8t",
        "outputId": "4d6e9a8f-049a-4e18-d753-f1d43ea450d6"
      },
      "execution_count": 11,
      "outputs": [
        {
          "output_type": "stream",
          "name": "stdout",
          "text": [
            "[6 8 2 2 1 7 5 2 9 4 4 9 4 2 2 7 1 3 3 2] dizisinin tekrar eden elemanları [1 2 3 4 5 6 7 8 9]'dir\n"
          ]
        }
      ]
    },
    {
      "cell_type": "code",
      "source": [
        "#10. 2 boyutlu bir Numpy dizisindeki tüm elemanların toplamını bulun"
      ],
      "metadata": {
        "id": "8oNsFFg4xIbx"
      },
      "execution_count": null,
      "outputs": []
    },
    {
      "cell_type": "code",
      "source": [
        "summary = np.sum(b)\n",
        "summary"
      ],
      "metadata": {
        "colab": {
          "base_uri": "https://localhost:8080/"
        },
        "id": "PtIKEccFxVJW",
        "outputId": "7add37aa-72ae-42fd-c75f-f0e2bacadb31"
      },
      "execution_count": 15,
      "outputs": [
        {
          "output_type": "execute_result",
          "data": {
            "text/plain": [
              "71"
            ]
          },
          "metadata": {},
          "execution_count": 15
        }
      ]
    },
    {
      "cell_type": "code",
      "source": [
        "#11. 2 boyutlu bir Numpy dizisindeki her bir satırdaki elemanların toplamını bulun\n",
        "summary_satir=np.sum(b, axis=1)\n",
        "summary_satir"
      ],
      "metadata": {
        "colab": {
          "base_uri": "https://localhost:8080/"
        },
        "id": "kd2MX4Mzxn1o",
        "outputId": "f79fac84-226f-4ff7-fee3-d70c5d9dc252"
      },
      "execution_count": 17,
      "outputs": [
        {
          "output_type": "execute_result",
          "data": {
            "text/plain": [
              "array([24, 28, 19])"
            ]
          },
          "metadata": {},
          "execution_count": 17
        }
      ]
    },
    {
      "cell_type": "code",
      "source": [
        "#12. 2 boyutlu bir Numpy dizisindeki her bir sütundaki elemanların toplamını bulun\n",
        "summary_sutun=np.sum(b, axis=0)\n",
        "summary_sutun"
      ],
      "metadata": {
        "colab": {
          "base_uri": "https://localhost:8080/"
        },
        "id": "H1Gn0SgdyB5Q",
        "outputId": "80adb9b1-1d7e-489c-d6ff-50beb24c8cc8"
      },
      "execution_count": 18,
      "outputs": [
        {
          "output_type": "execute_result",
          "data": {
            "text/plain": [
              "array([16, 37, 18])"
            ]
          },
          "metadata": {},
          "execution_count": 18
        }
      ]
    },
    {
      "cell_type": "code",
      "source": [
        "#13. Numpy dizisi boyutlarını değiştirin\n",
        "\n",
        "g = np.array(range(1,13))\n",
        "print(g)\n",
        "\n",
        "h=g.reshape(4,3)\n",
        "print(h) "
      ],
      "metadata": {
        "colab": {
          "base_uri": "https://localhost:8080/"
        },
        "id": "aN-opBfryKPw",
        "outputId": "13b5b202-e927-413a-fb4a-6cc0030702ba"
      },
      "execution_count": 42,
      "outputs": [
        {
          "output_type": "stream",
          "name": "stdout",
          "text": [
            "[ 1  2  3  4  5  6  7  8  9 10 11 12]\n",
            "[[ 1  2  3]\n",
            " [ 4  5  6]\n",
            " [ 7  8  9]\n",
            " [10 11 12]]\n"
          ]
        }
      ]
    },
    {
      "cell_type": "code",
      "source": [
        "# ya da\n",
        "\n",
        "g=np.array([[1, 2, 3, 4], [5, 6, 7, 8], [9, 10, 11, 12]])\n",
        "\n",
        "g_reshaped = np.reshape(g, (4, 3))\n",
        "print(g_reshaped)"
      ],
      "metadata": {
        "colab": {
          "base_uri": "https://localhost:8080/"
        },
        "id": "wIvOJGdm0GK1",
        "outputId": "3093736d-ca26-4820-e979-fcc9a113d8a1"
      },
      "execution_count": 41,
      "outputs": [
        {
          "output_type": "stream",
          "name": "stdout",
          "text": [
            "[[ 1  2  3]\n",
            " [ 4  5  6]\n",
            " [ 7  8  9]\n",
            " [10 11 12]]\n"
          ]
        }
      ]
    },
    {
      "cell_type": "code",
      "source": [
        "#14. Numpy dizisindeki elemanların transpozunu alın"
      ],
      "metadata": {
        "id": "towH2M5j0lal"
      },
      "execution_count": null,
      "outputs": []
    },
    {
      "cell_type": "code",
      "source": [
        "g_transpose = np.transpose(g)"
      ],
      "metadata": {
        "id": "2BpxWUd50qKm"
      },
      "execution_count": 45,
      "outputs": []
    },
    {
      "cell_type": "code",
      "source": [
        "#15. Numpy dizisindeki elemanların sıralamasını yapın\n",
        "print(\"Dizimiz: \", d)\n",
        "d_Sort=np.sort(d)\n",
        "print()\n",
        "print(\"Dizimizin sort komutuyla sıralanmış hali: \", d_Sort)"
      ],
      "metadata": {
        "colab": {
          "base_uri": "https://localhost:8080/"
        },
        "id": "q38vLG6J1E72",
        "outputId": "24210396-b008-4483-9947-6f23ccb346af"
      },
      "execution_count": 58,
      "outputs": [
        {
          "output_type": "stream",
          "name": "stdout",
          "text": [
            "Dizimiz:  [  96.16774526  -15.21650631   22.70135604  113.55202944  -69.62850452\n",
            "  -16.97413795  -93.43450606  -36.68228207  133.05145163 -228.24243699\n",
            "  -51.86849265  128.85573756  125.13374129  186.82404409  -29.76394989\n",
            "  132.69391175   49.17961312    1.74189147  -73.19387651   89.2589421 ]\n",
            "\n",
            "Dizimizin sort komutuyla sıralanmış hali:  [-228.24243699  -93.43450606  -73.19387651  -69.62850452  -51.86849265\n",
            "  -36.68228207  -29.76394989  -16.97413795  -15.21650631    1.74189147\n",
            "   22.70135604   49.17961312   89.2589421    96.16774526  113.55202944\n",
            "  125.13374129  128.85573756  132.69391175  133.05145163  186.82404409]\n"
          ]
        }
      ]
    },
    {
      "cell_type": "code",
      "source": [
        "#16. 2 boyutlu bir Numpy dizisindeki her bir sütundaki elemanların ortalamasını bulun\n",
        "## Yukarıda da yaptığım gibi, yine \"b\" olarak tanımlanmış iki boyutlu diziyi kullanacağım.\n",
        "\n",
        "sutun_mean=np.mean(b, axis=0)\n",
        "sutun_mean\n"
      ],
      "metadata": {
        "colab": {
          "base_uri": "https://localhost:8080/"
        },
        "id": "ksETzoyJ2B8u",
        "outputId": "683979bb-233c-4301-efe8-69f9b2195cb1"
      },
      "execution_count": 56,
      "outputs": [
        {
          "output_type": "execute_result",
          "data": {
            "text/plain": [
              "array([ 5.33333333, 12.33333333,  6.        ])"
            ]
          },
          "metadata": {},
          "execution_count": 56
        }
      ]
    },
    {
      "cell_type": "code",
      "source": [
        "#17. 2 boyutlu bir Numpy dizisindeki her bir satırdaki elemanların standart sapmasını bulun\n",
        "sd_b = np.std(b, axis=1)\n",
        "sd_b"
      ],
      "metadata": {
        "colab": {
          "base_uri": "https://localhost:8080/"
        },
        "id": "tPPyd4Ju2zkG",
        "outputId": "46160c93-407d-49d0-e414-fa6cfc3b809d"
      },
      "execution_count": 57,
      "outputs": [
        {
          "output_type": "execute_result",
          "data": {
            "text/plain": [
              "array([7.11805217, 2.49443826, 4.78423336])"
            ]
          },
          "metadata": {},
          "execution_count": 57
        }
      ]
    },
    {
      "cell_type": "code",
      "source": [
        "#18. 2 boyutlu bir Numpy dizisinde belirli bir elemanın index değerini bulun.\n",
        "print(b)\n",
        "index=np.where(b==13)\n",
        "print(f\" '13' elemanının index değeri = {index} \")\n",
        "\n"
      ],
      "metadata": {
        "colab": {
          "base_uri": "https://localhost:8080/"
        },
        "id": "nz7DGolh3FF-",
        "outputId": "5bef8f8c-64e9-4a4d-cdb4-5e529456fbe6"
      },
      "execution_count": 64,
      "outputs": [
        {
          "output_type": "stream",
          "name": "stdout",
          "text": [
            "[[ 4 18  2]\n",
            " [10  6 12]\n",
            " [ 2 13  4]]\n",
            " '13' elemanının index değeri = (array([2]), array([1])) \n"
          ]
        }
      ]
    },
    {
      "cell_type": "code",
      "source": [
        "#19. 2 boyutlu bir Numpy dizisinde belirli bir sütunu seçin\n",
        "print(b)\n",
        "column= b[:,2]\n",
        "print(f\"dizinin üçüncü sütunu = {column}'dür\")\n"
      ],
      "metadata": {
        "colab": {
          "base_uri": "https://localhost:8080/"
        },
        "id": "xykQ8xn84AbU",
        "outputId": "921aa75b-49ed-4ffe-c029-73881ded0e81"
      },
      "execution_count": 70,
      "outputs": [
        {
          "output_type": "stream",
          "name": "stdout",
          "text": [
            "[[ 4 18  2]\n",
            " [10  6 12]\n",
            " [ 2 13  4]]\n",
            "dizinin üçüncü sütunu = [ 2 12  4]'dur\n"
          ]
        }
      ]
    },
    {
      "cell_type": "code",
      "source": [
        "#20. 2 boyutlu bir Numpy dizisinde belirli bir satırı seçin\n",
        "print(b)\n",
        "row= b[2,:]\n",
        "print(f\"dizinin üçüncü satırı = {row}'dür\")"
      ],
      "metadata": {
        "colab": {
          "base_uri": "https://localhost:8080/"
        },
        "id": "T_-qoXnJ4ay-",
        "outputId": "0bed19cf-dd82-49ec-f260-c3d4f5614a86"
      },
      "execution_count": 73,
      "outputs": [
        {
          "output_type": "stream",
          "name": "stdout",
          "text": [
            "[[ 4 18  2]\n",
            " [10  6 12]\n",
            " [ 2 13  4]]\n",
            "dizinin üçüncü satırı = [ 2 13  4]'dür\n"
          ]
        }
      ]
    }
  ]
}